{
 "cells": [
  {
   "cell_type": "code",
   "execution_count": 6,
   "metadata": {},
   "outputs": [],
   "source": [
    "import csv\n",
    "\n",
    "def skroc_plik_csv(nazwa_pliku, liczba_wierszy):\n",
    "    with open(nazwa_pliku, 'r') as plik_wejsciowy:\n",
    "        czytnik_csv = csv.reader(plik_wejsciowy)\n",
    "        naglowek = next(czytnik_csv)  # Pomijanie nagłówka\n",
    "\n",
    "        dane = []\n",
    "        for wiersz in czytnik_csv:\n",
    "            dane.append(wiersz)\n",
    "            if len(dane) >= liczba_wierszy:\n",
    "                break\n",
    "\n",
    "    with open(nazwa_pliku, 'w', newline='') as plik_wyjsciowy:\n",
    "        pisarz_csv = csv.writer(plik_wyjsciowy)\n",
    "        pisarz_csv.writerow(naglowek)\n",
    "        pisarz_csv.writerows(dane)\n",
    "\n",
    "    print(f\"Plik {nazwa_pliku} został skrócony do {liczba_wierszy} wierszy.\")\n"
   ]
  },
  {
   "cell_type": "code",
   "execution_count": 7,
   "metadata": {},
   "outputs": [
    {
     "name": "stdout",
     "output_type": "stream",
     "text": [
      "Plik taxi.csv został skrócony do 400000 wierszy.\n"
     ]
    }
   ],
   "source": [
    "nazwa_pliku_csv = 'taxi.csv'\n",
    "liczba_wierszy = 400000  # Określona liczba wierszy, do której chcesz skrócić plik\n",
    "\n",
    "skroc_plik_csv(nazwa_pliku_csv, liczba_wierszy)"
   ]
  },
  {
   "cell_type": "code",
   "execution_count": null,
   "metadata": {},
   "outputs": [],
   "source": []
  }
 ],
 "metadata": {
  "kernelspec": {
   "display_name": "Python 3",
   "language": "python",
   "name": "python3"
  },
  "language_info": {
   "codemirror_mode": {
    "name": "ipython",
    "version": 3
   },
   "file_extension": ".py",
   "mimetype": "text/x-python",
   "name": "python",
   "nbconvert_exporter": "python",
   "pygments_lexer": "ipython3",
   "version": "3.11.2"
  },
  "orig_nbformat": 4
 },
 "nbformat": 4,
 "nbformat_minor": 2
}
