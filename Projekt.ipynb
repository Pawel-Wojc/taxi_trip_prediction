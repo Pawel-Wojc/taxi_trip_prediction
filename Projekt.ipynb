{
 "cells": [
  {
   "cell_type": "code",
   "execution_count": 200,
   "metadata": {},
   "outputs": [],
   "source": [
    "#https://www.kaggle.com/code/akshaychavan123/taxi-trip-time-prediction/notebook\n",
    "#https://www.kaggle.com/code/mrganger/identifying-invalid-gps-points-in-taxi-trips tu jest spoko wykres ale trzeba bibioteki doinstalowac\n",
    "\n",
    "import pandas as pd\n",
    "import seaborn as sns\n",
    "import datetime\n",
    "import matplotlib.pyplot as plt\n",
    "import ast\n",
    "import random as rn\n",
    "import numpy as np\n"
   ]
  },
  {
   "cell_type": "code",
   "execution_count": 2,
   "metadata": {},
   "outputs": [],
   "source": [
    "baza = pd.read_csv('taxi 400k.csv')"
   ]
  },
  {
   "cell_type": "code",
   "execution_count": 3,
   "metadata": {},
   "outputs": [
    {
     "data": {
      "text/html": [
       "<div>\n",
       "<style scoped>\n",
       "    .dataframe tbody tr th:only-of-type {\n",
       "        vertical-align: middle;\n",
       "    }\n",
       "\n",
       "    .dataframe tbody tr th {\n",
       "        vertical-align: top;\n",
       "    }\n",
       "\n",
       "    .dataframe thead th {\n",
       "        text-align: right;\n",
       "    }\n",
       "</style>\n",
       "<table border=\"1\" class=\"dataframe\">\n",
       "  <thead>\n",
       "    <tr style=\"text-align: right;\">\n",
       "      <th></th>\n",
       "      <th>TRIP_ID</th>\n",
       "      <th>CALL_TYPE</th>\n",
       "      <th>ORIGIN_CALL</th>\n",
       "      <th>ORIGIN_STAND</th>\n",
       "      <th>TAXI_ID</th>\n",
       "      <th>TIMESTAMP</th>\n",
       "      <th>DAY_TYPE</th>\n",
       "      <th>MISSING_DATA</th>\n",
       "      <th>POLYLINE</th>\n",
       "    </tr>\n",
       "  </thead>\n",
       "  <tbody>\n",
       "    <tr>\n",
       "      <th>0</th>\n",
       "      <td>1372636858620000589</td>\n",
       "      <td>C</td>\n",
       "      <td>NaN</td>\n",
       "      <td>NaN</td>\n",
       "      <td>20000589</td>\n",
       "      <td>1372636858</td>\n",
       "      <td>A</td>\n",
       "      <td>False</td>\n",
       "      <td>[[-8.618643,41.141412],[-8.618499,41.141376],[...</td>\n",
       "    </tr>\n",
       "    <tr>\n",
       "      <th>1</th>\n",
       "      <td>1372637303620000596</td>\n",
       "      <td>B</td>\n",
       "      <td>NaN</td>\n",
       "      <td>7.0</td>\n",
       "      <td>20000596</td>\n",
       "      <td>1372637303</td>\n",
       "      <td>A</td>\n",
       "      <td>False</td>\n",
       "      <td>[[-8.639847,41.159826],[-8.640351,41.159871],[...</td>\n",
       "    </tr>\n",
       "    <tr>\n",
       "      <th>2</th>\n",
       "      <td>1372636951620000320</td>\n",
       "      <td>C</td>\n",
       "      <td>NaN</td>\n",
       "      <td>NaN</td>\n",
       "      <td>20000320</td>\n",
       "      <td>1372636951</td>\n",
       "      <td>A</td>\n",
       "      <td>False</td>\n",
       "      <td>[[-8.612964,41.140359],[-8.613378,41.14035],[-...</td>\n",
       "    </tr>\n",
       "    <tr>\n",
       "      <th>3</th>\n",
       "      <td>1372636854620000520</td>\n",
       "      <td>C</td>\n",
       "      <td>NaN</td>\n",
       "      <td>NaN</td>\n",
       "      <td>20000520</td>\n",
       "      <td>1372636854</td>\n",
       "      <td>A</td>\n",
       "      <td>False</td>\n",
       "      <td>[[-8.574678,41.151951],[-8.574705,41.151942],[...</td>\n",
       "    </tr>\n",
       "  </tbody>\n",
       "</table>\n",
       "</div>"
      ],
      "text/plain": [
       "               TRIP_ID CALL_TYPE  ORIGIN_CALL  ORIGIN_STAND   TAXI_ID  \\\n",
       "0  1372636858620000589         C          NaN           NaN  20000589   \n",
       "1  1372637303620000596         B          NaN           7.0  20000596   \n",
       "2  1372636951620000320         C          NaN           NaN  20000320   \n",
       "3  1372636854620000520         C          NaN           NaN  20000520   \n",
       "\n",
       "    TIMESTAMP DAY_TYPE  MISSING_DATA  \\\n",
       "0  1372636858        A         False   \n",
       "1  1372637303        A         False   \n",
       "2  1372636951        A         False   \n",
       "3  1372636854        A         False   \n",
       "\n",
       "                                            POLYLINE  \n",
       "0  [[-8.618643,41.141412],[-8.618499,41.141376],[...  \n",
       "1  [[-8.639847,41.159826],[-8.640351,41.159871],[...  \n",
       "2  [[-8.612964,41.140359],[-8.613378,41.14035],[-...  \n",
       "3  [[-8.574678,41.151951],[-8.574705,41.151942],[...  "
      ]
     },
     "execution_count": 3,
     "metadata": {},
     "output_type": "execute_result"
    }
   ],
   "source": [
    "baza.head(4)"
   ]
  },
  {
   "cell_type": "code",
   "execution_count": 4,
   "metadata": {},
   "outputs": [
    {
     "data": {
      "text/html": [
       "<div>\n",
       "<style scoped>\n",
       "    .dataframe tbody tr th:only-of-type {\n",
       "        vertical-align: middle;\n",
       "    }\n",
       "\n",
       "    .dataframe tbody tr th {\n",
       "        vertical-align: top;\n",
       "    }\n",
       "\n",
       "    .dataframe thead th {\n",
       "        text-align: right;\n",
       "    }\n",
       "</style>\n",
       "<table border=\"1\" class=\"dataframe\">\n",
       "  <thead>\n",
       "    <tr style=\"text-align: right;\">\n",
       "      <th></th>\n",
       "      <th>TRIP_ID</th>\n",
       "      <th>ORIGIN_CALL</th>\n",
       "      <th>ORIGIN_STAND</th>\n",
       "      <th>TAXI_ID</th>\n",
       "      <th>TIMESTAMP</th>\n",
       "    </tr>\n",
       "  </thead>\n",
       "  <tbody>\n",
       "    <tr>\n",
       "      <th>count</th>\n",
       "      <td>4.000000e+05</td>\n",
       "      <td>82253.000000</td>\n",
       "      <td>198364.000000</td>\n",
       "      <td>4.000000e+05</td>\n",
       "      <td>4.000000e+05</td>\n",
       "    </tr>\n",
       "    <tr>\n",
       "      <th>mean</th>\n",
       "      <td>1.376474e+18</td>\n",
       "      <td>23486.085663</td>\n",
       "      <td>30.422607</td>\n",
       "      <td>2.000035e+07</td>\n",
       "      <td>1.376474e+09</td>\n",
       "    </tr>\n",
       "    <tr>\n",
       "      <th>std</th>\n",
       "      <td>2.286724e+15</td>\n",
       "      <td>19692.943272</td>\n",
       "      <td>17.825948</td>\n",
       "      <td>2.098117e+02</td>\n",
       "      <td>2.286724e+06</td>\n",
       "    </tr>\n",
       "    <tr>\n",
       "      <th>min</th>\n",
       "      <td>1.372637e+18</td>\n",
       "      <td>2001.000000</td>\n",
       "      <td>1.000000</td>\n",
       "      <td>2.000000e+07</td>\n",
       "      <td>1.372637e+09</td>\n",
       "    </tr>\n",
       "    <tr>\n",
       "      <th>25%</th>\n",
       "      <td>1.374427e+18</td>\n",
       "      <td>5444.000000</td>\n",
       "      <td>15.000000</td>\n",
       "      <td>2.000017e+07</td>\n",
       "      <td>1.374427e+09</td>\n",
       "    </tr>\n",
       "    <tr>\n",
       "      <th>50%</th>\n",
       "      <td>1.376425e+18</td>\n",
       "      <td>17217.000000</td>\n",
       "      <td>27.000000</td>\n",
       "      <td>2.000035e+07</td>\n",
       "      <td>1.376425e+09</td>\n",
       "    </tr>\n",
       "    <tr>\n",
       "      <th>75%</th>\n",
       "      <td>1.378560e+18</td>\n",
       "      <td>39654.000000</td>\n",
       "      <td>49.000000</td>\n",
       "      <td>2.000052e+07</td>\n",
       "      <td>1.378560e+09</td>\n",
       "    </tr>\n",
       "    <tr>\n",
       "      <th>max</th>\n",
       "      <td>1.380280e+18</td>\n",
       "      <td>63882.000000</td>\n",
       "      <td>63.000000</td>\n",
       "      <td>2.000098e+07</td>\n",
       "      <td>1.380280e+09</td>\n",
       "    </tr>\n",
       "  </tbody>\n",
       "</table>\n",
       "</div>"
      ],
      "text/plain": [
       "            TRIP_ID   ORIGIN_CALL   ORIGIN_STAND       TAXI_ID     TIMESTAMP\n",
       "count  4.000000e+05  82253.000000  198364.000000  4.000000e+05  4.000000e+05\n",
       "mean   1.376474e+18  23486.085663      30.422607  2.000035e+07  1.376474e+09\n",
       "std    2.286724e+15  19692.943272      17.825948  2.098117e+02  2.286724e+06\n",
       "min    1.372637e+18   2001.000000       1.000000  2.000000e+07  1.372637e+09\n",
       "25%    1.374427e+18   5444.000000      15.000000  2.000017e+07  1.374427e+09\n",
       "50%    1.376425e+18  17217.000000      27.000000  2.000035e+07  1.376425e+09\n",
       "75%    1.378560e+18  39654.000000      49.000000  2.000052e+07  1.378560e+09\n",
       "max    1.380280e+18  63882.000000      63.000000  2.000098e+07  1.380280e+09"
      ]
     },
     "execution_count": 4,
     "metadata": {},
     "output_type": "execute_result"
    }
   ],
   "source": [
    "baza.describe()"
   ]
  },
  {
   "cell_type": "code",
   "execution_count": 5,
   "metadata": {},
   "outputs": [],
   "source": [
    "#usuwanie kolumn\n",
    "baza.drop(['CALL_TYPE', 'ORIGIN_CALL','ORIGIN_STAND','TAXI_ID'], axis=1, inplace=True)"
   ]
  },
  {
   "cell_type": "code",
   "execution_count": 6,
   "metadata": {},
   "outputs": [
    {
     "data": {
      "text/plain": [
       "400000"
      ]
     },
     "execution_count": 6,
     "metadata": {},
     "output_type": "execute_result"
    }
   ],
   "source": [
    "len(baza)"
   ]
  },
  {
   "cell_type": "code",
   "execution_count": 7,
   "metadata": {},
   "outputs": [],
   "source": [
    "def usun_wiersze_z_brakami(baza):\n",
    "    baza.drop(baza[baza['MISSING_DATA'] == True].index, inplace=True)\n",
    "    baza.reset_index(drop=True, inplace=True)\n",
    "\n",
    "usun_wiersze_z_brakami(baza)  #usuwam wszystkie wiersze gdzie missing data jest true\n",
    "baza.drop(['MISSING_DATA'], axis=1, inplace=True)"
   ]
  },
  {
   "cell_type": "code",
   "execution_count": 8,
   "metadata": {},
   "outputs": [
    {
     "data": {
      "text/plain": [
       "399997"
      ]
     },
     "execution_count": 8,
     "metadata": {},
     "output_type": "execute_result"
    }
   ],
   "source": [
    "len(baza)"
   ]
  },
  {
   "cell_type": "code",
   "execution_count": 9,
   "metadata": {},
   "outputs": [],
   "source": [
    "baza.sort_values('TIMESTAMP',inplace = True)"
   ]
  },
  {
   "cell_type": "code",
   "execution_count": 10,
   "metadata": {},
   "outputs": [
    {
     "data": {
      "text/html": [
       "<div>\n",
       "<style scoped>\n",
       "    .dataframe tbody tr th:only-of-type {\n",
       "        vertical-align: middle;\n",
       "    }\n",
       "\n",
       "    .dataframe tbody tr th {\n",
       "        vertical-align: top;\n",
       "    }\n",
       "\n",
       "    .dataframe thead th {\n",
       "        text-align: right;\n",
       "    }\n",
       "</style>\n",
       "<table border=\"1\" class=\"dataframe\">\n",
       "  <thead>\n",
       "    <tr style=\"text-align: right;\">\n",
       "      <th></th>\n",
       "      <th>TRIP_ID</th>\n",
       "      <th>TIMESTAMP</th>\n",
       "      <th>DAY_TYPE</th>\n",
       "      <th>POLYLINE</th>\n",
       "    </tr>\n",
       "  </thead>\n",
       "  <tbody>\n",
       "    <tr>\n",
       "      <th>577</th>\n",
       "      <td>1372636853620000380</td>\n",
       "      <td>1372636853</td>\n",
       "      <td>A</td>\n",
       "      <td>[[-8.610291,41.140746],[-8.6103,41.140755],[-8...</td>\n",
       "    </tr>\n",
       "    <tr>\n",
       "      <th>3</th>\n",
       "      <td>1372636854620000520</td>\n",
       "      <td>1372636854</td>\n",
       "      <td>A</td>\n",
       "      <td>[[-8.574678,41.151951],[-8.574705,41.151942],[...</td>\n",
       "    </tr>\n",
       "    <tr>\n",
       "      <th>0</th>\n",
       "      <td>1372636858620000589</td>\n",
       "      <td>1372636858</td>\n",
       "      <td>A</td>\n",
       "      <td>[[-8.618643,41.141412],[-8.618499,41.141376],[...</td>\n",
       "    </tr>\n",
       "    <tr>\n",
       "      <th>10</th>\n",
       "      <td>1372636875620000233</td>\n",
       "      <td>1372636875</td>\n",
       "      <td>A</td>\n",
       "      <td>[[-8.619894,41.148009],[-8.620164,41.14773],[-...</td>\n",
       "    </tr>\n",
       "    <tr>\n",
       "      <th>64</th>\n",
       "      <td>1372636896620000360</td>\n",
       "      <td>1372636896</td>\n",
       "      <td>A</td>\n",
       "      <td>[[-8.617599,41.146137],[-8.617581,41.14593],[-...</td>\n",
       "    </tr>\n",
       "  </tbody>\n",
       "</table>\n",
       "</div>"
      ],
      "text/plain": [
       "                 TRIP_ID   TIMESTAMP DAY_TYPE  \\\n",
       "577  1372636853620000380  1372636853        A   \n",
       "3    1372636854620000520  1372636854        A   \n",
       "0    1372636858620000589  1372636858        A   \n",
       "10   1372636875620000233  1372636875        A   \n",
       "64   1372636896620000360  1372636896        A   \n",
       "\n",
       "                                              POLYLINE  \n",
       "577  [[-8.610291,41.140746],[-8.6103,41.140755],[-8...  \n",
       "3    [[-8.574678,41.151951],[-8.574705,41.151942],[...  \n",
       "0    [[-8.618643,41.141412],[-8.618499,41.141376],[...  \n",
       "10   [[-8.619894,41.148009],[-8.620164,41.14773],[-...  \n",
       "64   [[-8.617599,41.146137],[-8.617581,41.14593],[-...  "
      ]
     },
     "execution_count": 10,
     "metadata": {},
     "output_type": "execute_result"
    }
   ],
   "source": [
    "baza.head()"
   ]
  },
  {
   "cell_type": "code",
   "execution_count": 11,
   "metadata": {},
   "outputs": [],
   "source": [
    "#zamiana timestampa na bardzije przyjazny zapis\n",
    "baza['year'] = baza['TIMESTAMP'].apply(lambda x :datetime.datetime.fromtimestamp(x).year) \n",
    "baza['month'] = baza['TIMESTAMP'].apply(lambda x :datetime.datetime.fromtimestamp(x).month) \n",
    "baza['month_day'] = baza['TIMESTAMP'].apply(lambda x :datetime.datetime.fromtimestamp(x).day) \n",
    "baza['hour'] = baza['TIMESTAMP'].apply(lambda x :datetime.datetime.fromtimestamp(x).hour) \n",
    "baza['week_day'] = baza['TIMESTAMP'].apply(lambda x :datetime.datetime.fromtimestamp(x).weekday()) "
   ]
  },
  {
   "cell_type": "code",
   "execution_count": 12,
   "metadata": {},
   "outputs": [
    {
     "data": {
      "text/html": [
       "<div>\n",
       "<style scoped>\n",
       "    .dataframe tbody tr th:only-of-type {\n",
       "        vertical-align: middle;\n",
       "    }\n",
       "\n",
       "    .dataframe tbody tr th {\n",
       "        vertical-align: top;\n",
       "    }\n",
       "\n",
       "    .dataframe thead th {\n",
       "        text-align: right;\n",
       "    }\n",
       "</style>\n",
       "<table border=\"1\" class=\"dataframe\">\n",
       "  <thead>\n",
       "    <tr style=\"text-align: right;\">\n",
       "      <th></th>\n",
       "      <th>TRIP_ID</th>\n",
       "      <th>TIMESTAMP</th>\n",
       "      <th>DAY_TYPE</th>\n",
       "      <th>POLYLINE</th>\n",
       "      <th>year</th>\n",
       "      <th>month</th>\n",
       "      <th>month_day</th>\n",
       "      <th>hour</th>\n",
       "      <th>week_day</th>\n",
       "    </tr>\n",
       "  </thead>\n",
       "  <tbody>\n",
       "    <tr>\n",
       "      <th>577</th>\n",
       "      <td>1372636853620000380</td>\n",
       "      <td>1372636853</td>\n",
       "      <td>A</td>\n",
       "      <td>[[-8.610291,41.140746],[-8.6103,41.140755],[-8...</td>\n",
       "      <td>2013</td>\n",
       "      <td>7</td>\n",
       "      <td>1</td>\n",
       "      <td>2</td>\n",
       "      <td>0</td>\n",
       "    </tr>\n",
       "    <tr>\n",
       "      <th>3</th>\n",
       "      <td>1372636854620000520</td>\n",
       "      <td>1372636854</td>\n",
       "      <td>A</td>\n",
       "      <td>[[-8.574678,41.151951],[-8.574705,41.151942],[...</td>\n",
       "      <td>2013</td>\n",
       "      <td>7</td>\n",
       "      <td>1</td>\n",
       "      <td>2</td>\n",
       "      <td>0</td>\n",
       "    </tr>\n",
       "    <tr>\n",
       "      <th>0</th>\n",
       "      <td>1372636858620000589</td>\n",
       "      <td>1372636858</td>\n",
       "      <td>A</td>\n",
       "      <td>[[-8.618643,41.141412],[-8.618499,41.141376],[...</td>\n",
       "      <td>2013</td>\n",
       "      <td>7</td>\n",
       "      <td>1</td>\n",
       "      <td>2</td>\n",
       "      <td>0</td>\n",
       "    </tr>\n",
       "    <tr>\n",
       "      <th>10</th>\n",
       "      <td>1372636875620000233</td>\n",
       "      <td>1372636875</td>\n",
       "      <td>A</td>\n",
       "      <td>[[-8.619894,41.148009],[-8.620164,41.14773],[-...</td>\n",
       "      <td>2013</td>\n",
       "      <td>7</td>\n",
       "      <td>1</td>\n",
       "      <td>2</td>\n",
       "      <td>0</td>\n",
       "    </tr>\n",
       "    <tr>\n",
       "      <th>64</th>\n",
       "      <td>1372636896620000360</td>\n",
       "      <td>1372636896</td>\n",
       "      <td>A</td>\n",
       "      <td>[[-8.617599,41.146137],[-8.617581,41.14593],[-...</td>\n",
       "      <td>2013</td>\n",
       "      <td>7</td>\n",
       "      <td>1</td>\n",
       "      <td>2</td>\n",
       "      <td>0</td>\n",
       "    </tr>\n",
       "  </tbody>\n",
       "</table>\n",
       "</div>"
      ],
      "text/plain": [
       "                 TRIP_ID   TIMESTAMP DAY_TYPE  \\\n",
       "577  1372636853620000380  1372636853        A   \n",
       "3    1372636854620000520  1372636854        A   \n",
       "0    1372636858620000589  1372636858        A   \n",
       "10   1372636875620000233  1372636875        A   \n",
       "64   1372636896620000360  1372636896        A   \n",
       "\n",
       "                                              POLYLINE  year  month  \\\n",
       "577  [[-8.610291,41.140746],[-8.6103,41.140755],[-8...  2013      7   \n",
       "3    [[-8.574678,41.151951],[-8.574705,41.151942],[...  2013      7   \n",
       "0    [[-8.618643,41.141412],[-8.618499,41.141376],[...  2013      7   \n",
       "10   [[-8.619894,41.148009],[-8.620164,41.14773],[-...  2013      7   \n",
       "64   [[-8.617599,41.146137],[-8.617581,41.14593],[-...  2013      7   \n",
       "\n",
       "     month_day  hour  week_day  \n",
       "577          1     2         0  \n",
       "3            1     2         0  \n",
       "0            1     2         0  \n",
       "10           1     2         0  \n",
       "64           1     2         0  "
      ]
     },
     "execution_count": 12,
     "metadata": {},
     "output_type": "execute_result"
    }
   ],
   "source": [
    "baza.head(5) #pierwsze 5 rekordów \n"
   ]
  },
  {
   "cell_type": "code",
   "execution_count": 13,
   "metadata": {},
   "outputs": [
    {
     "name": "stdout",
     "output_type": "stream",
     "text": [
      "Empty DataFrame\n",
      "Columns: [TRIP_ID, TIMESTAMP, DAY_TYPE, POLYLINE, year, month, month_day, hour, week_day]\n",
      "Index: []\n"
     ]
    }
   ],
   "source": [
    "puste_wiersze = baza[baza['POLYLINE'].isnull()]\n",
    "\n",
    "# Wyświetl wybrane wiersze\n",
    "print(puste_wiersze)"
   ]
  },
  {
   "cell_type": "code",
   "execution_count": 14,
   "metadata": {},
   "outputs": [
    {
     "data": {
      "text/html": [
       "<div>\n",
       "<style scoped>\n",
       "    .dataframe tbody tr th:only-of-type {\n",
       "        vertical-align: middle;\n",
       "    }\n",
       "\n",
       "    .dataframe tbody tr th {\n",
       "        vertical-align: top;\n",
       "    }\n",
       "\n",
       "    .dataframe thead th {\n",
       "        text-align: right;\n",
       "    }\n",
       "</style>\n",
       "<table border=\"1\" class=\"dataframe\">\n",
       "  <thead>\n",
       "    <tr style=\"text-align: right;\">\n",
       "      <th></th>\n",
       "      <th>TRIP_ID</th>\n",
       "      <th>TIMESTAMP</th>\n",
       "      <th>DAY_TYPE</th>\n",
       "      <th>POLYLINE</th>\n",
       "      <th>year</th>\n",
       "      <th>month</th>\n",
       "      <th>month_day</th>\n",
       "      <th>hour</th>\n",
       "      <th>week_day</th>\n",
       "    </tr>\n",
       "  </thead>\n",
       "  <tbody>\n",
       "    <tr>\n",
       "      <th>399986</th>\n",
       "      <td>1380278569620000260</td>\n",
       "      <td>1380278569</td>\n",
       "      <td>A</td>\n",
       "      <td>[[-8.606331,41.144661],[-8.60688,41.144895],[-...</td>\n",
       "      <td>2013</td>\n",
       "      <td>9</td>\n",
       "      <td>27</td>\n",
       "      <td>12</td>\n",
       "      <td>4</td>\n",
       "    </tr>\n",
       "    <tr>\n",
       "      <th>399950</th>\n",
       "      <td>1380278662620000249</td>\n",
       "      <td>1380278662</td>\n",
       "      <td>A</td>\n",
       "      <td>[[-8.640126,41.159718],[-8.64054,41.15979],[-8...</td>\n",
       "      <td>2013</td>\n",
       "      <td>9</td>\n",
       "      <td>27</td>\n",
       "      <td>12</td>\n",
       "      <td>4</td>\n",
       "    </tr>\n",
       "    <tr>\n",
       "      <th>399960</th>\n",
       "      <td>1380278748620000304</td>\n",
       "      <td>1380278748</td>\n",
       "      <td>A</td>\n",
       "      <td>[[-8.613972,41.176368],[-8.613963,41.176386],[...</td>\n",
       "      <td>2013</td>\n",
       "      <td>9</td>\n",
       "      <td>27</td>\n",
       "      <td>12</td>\n",
       "      <td>4</td>\n",
       "    </tr>\n",
       "    <tr>\n",
       "      <th>399976</th>\n",
       "      <td>1380279405620000681</td>\n",
       "      <td>1380279405</td>\n",
       "      <td>A</td>\n",
       "      <td>[[-8.690022,41.240403]]</td>\n",
       "      <td>2013</td>\n",
       "      <td>9</td>\n",
       "      <td>27</td>\n",
       "      <td>12</td>\n",
       "      <td>4</td>\n",
       "    </tr>\n",
       "    <tr>\n",
       "      <th>399991</th>\n",
       "      <td>1380279526620000681</td>\n",
       "      <td>1380279526</td>\n",
       "      <td>A</td>\n",
       "      <td>[[-8.690112,41.240241],[-8.690175,41.240178],[...</td>\n",
       "      <td>2013</td>\n",
       "      <td>9</td>\n",
       "      <td>27</td>\n",
       "      <td>12</td>\n",
       "      <td>4</td>\n",
       "    </tr>\n",
       "  </tbody>\n",
       "</table>\n",
       "</div>"
      ],
      "text/plain": [
       "                    TRIP_ID   TIMESTAMP DAY_TYPE  \\\n",
       "399986  1380278569620000260  1380278569        A   \n",
       "399950  1380278662620000249  1380278662        A   \n",
       "399960  1380278748620000304  1380278748        A   \n",
       "399976  1380279405620000681  1380279405        A   \n",
       "399991  1380279526620000681  1380279526        A   \n",
       "\n",
       "                                                 POLYLINE  year  month  \\\n",
       "399986  [[-8.606331,41.144661],[-8.60688,41.144895],[-...  2013      9   \n",
       "399950  [[-8.640126,41.159718],[-8.64054,41.15979],[-8...  2013      9   \n",
       "399960  [[-8.613972,41.176368],[-8.613963,41.176386],[...  2013      9   \n",
       "399976                            [[-8.690022,41.240403]]  2013      9   \n",
       "399991  [[-8.690112,41.240241],[-8.690175,41.240178],[...  2013      9   \n",
       "\n",
       "        month_day  hour  week_day  \n",
       "399986         27    12         4  \n",
       "399950         27    12         4  \n",
       "399960         27    12         4  \n",
       "399976         27    12         4  \n",
       "399991         27    12         4  "
      ]
     },
     "execution_count": 14,
     "metadata": {},
     "output_type": "execute_result"
    }
   ],
   "source": [
    "baza[-5:] # ostatnie 5 rekordów"
   ]
  },
  {
   "cell_type": "code",
   "execution_count": 15,
   "metadata": {},
   "outputs": [
    {
     "data": {
      "text/plain": [
       "Text(0, 0.5, 'Dzień')"
      ]
     },
     "execution_count": 15,
     "metadata": {},
     "output_type": "execute_result"
    },
    {
     "data": {
      "image/png": "[encoded data removed]",
      "text/plain": [
       "<Figure size 500x500 with 1 Axes>"
      ]
     },
     "metadata": {},
     "output_type": "display_data"
    }
   ],
   "source": [
    "plt.figure(figsize = (5,5))\n",
    "plt.title('Ilość podróży dla każdego dnia tygodnia')\n",
    "sns.countplot(y = 'week_day', data = baza)\n",
    "plt.xlabel('Ilość')\n",
    "plt.ylabel('Dzień')"
   ]
  },
  {
   "cell_type": "code",
   "execution_count": 16,
   "metadata": {},
   "outputs": [
    {
     "data": {
      "text/plain": [
       "Text(0, 0.5, 'Miesiąc')"
      ]
     },
     "execution_count": 16,
     "metadata": {},
     "output_type": "execute_result"
    },
    {
     "data": {
      "image/png": "[encoded data removed]",
      "text/plain": [
       "<Figure size 1000x1000 with 1 Axes>"
      ]
     },
     "metadata": {},
     "output_type": "display_data"
    }
   ],
   "source": [
    "plt.figure(figsize = (10,10))\n",
    "plt.title('Ilość podróży dla każdego miesiąca')\n",
    "sns.countplot(y = 'month', data = baza)\n",
    "plt.xlabel('Ilość')\n",
    "plt.ylabel('Miesiąc')"
   ]
  },
  {
   "cell_type": "code",
   "execution_count": 17,
   "metadata": {},
   "outputs": [
    {
     "data": {
      "text/plain": [
       "Text(0, 0.5, 'Godzina')"
      ]
     },
     "execution_count": 17,
     "metadata": {},
     "output_type": "execute_result"
    },
    {
     "data": {
      "image/png": "[encoded data removed]",
      "text/plain": [
       "<Figure size 1000x1000 with 1 Axes>"
      ]
     },
     "metadata": {},
     "output_type": "display_data"
    }
   ],
   "source": [
    "plt.figure(figsize = (10,10))\n",
    "plt.title('Ilość podróży dla każdej godziny')\n",
    "sns.countplot(y = 'hour', data = baza)\n",
    "plt.xlabel('Ilość')\n",
    "plt.ylabel('Godzina')"
   ]
  },
  {
   "cell_type": "code",
   "execution_count": 18,
   "metadata": {},
   "outputs": [
    {
     "data": {
      "text/plain": [
       "(399997, 9)"
      ]
     },
     "execution_count": 18,
     "metadata": {},
     "output_type": "execute_result"
    }
   ],
   "source": [
    "baza.shape"
   ]
  },
  {
   "cell_type": "code",
   "execution_count": 19,
   "metadata": {},
   "outputs": [],
   "source": [
    "baza = baza.drop_duplicates()"
   ]
  },
  {
   "cell_type": "code",
   "execution_count": 20,
   "metadata": {},
   "outputs": [
    {
     "data": {
      "text/plain": [
       "(399996, 9)"
      ]
     },
     "execution_count": 20,
     "metadata": {},
     "output_type": "execute_result"
    }
   ],
   "source": [
    "baza.shape"
   ]
  },
  {
   "cell_type": "code",
   "execution_count": 21,
   "metadata": {},
   "outputs": [],
   "source": [
    "#Saving the final dataframe for future use.\n",
    "#baza.to_csv('Cleaned_data.csv', index = None)"
   ]
  },
  {
   "cell_type": "code",
   "execution_count": null,
   "metadata": {},
   "outputs": [],
   "source": []
  },
  {
   "cell_type": "code",
   "execution_count": 72,
   "metadata": {},
   "outputs": [],
   "source": [
    "new_df = baza[['POLYLINE']].copy()\n",
    "new_df = new_df[:100000]"
   ]
  },
  {
   "cell_type": "code",
   "execution_count": 73,
   "metadata": {},
   "outputs": [
    {
     "data": {
      "text/html": [
       "<div>\n",
       "<style scoped>\n",
       "    .dataframe tbody tr th:only-of-type {\n",
       "        vertical-align: middle;\n",
       "    }\n",
       "\n",
       "    .dataframe tbody tr th {\n",
       "        vertical-align: top;\n",
       "    }\n",
       "\n",
       "    .dataframe thead th {\n",
       "        text-align: right;\n",
       "    }\n",
       "</style>\n",
       "<table border=\"1\" class=\"dataframe\">\n",
       "  <thead>\n",
       "    <tr style=\"text-align: right;\">\n",
       "      <th></th>\n",
       "      <th>FIRST_ELEMENT</th>\n",
       "      <th>LAST_ELEMENT</th>\n",
       "      <th>TIME_IN_SEC</th>\n",
       "    </tr>\n",
       "  </thead>\n",
       "  <tbody>\n",
       "    <tr>\n",
       "      <th>577</th>\n",
       "      <td>[-8.610291, 41.140746]</td>\n",
       "      <td>[-8.60589, 41.145345]</td>\n",
       "      <td>375</td>\n",
       "    </tr>\n",
       "    <tr>\n",
       "      <th>3</th>\n",
       "      <td>[-8.574678, 41.151951]</td>\n",
       "      <td>[-8.607996, 41.142915]</td>\n",
       "      <td>645</td>\n",
       "    </tr>\n",
       "    <tr>\n",
       "      <th>0</th>\n",
       "      <td>[-8.618643, 41.141412]</td>\n",
       "      <td>[-8.630838, 41.154489]</td>\n",
       "      <td>345</td>\n",
       "    </tr>\n",
       "  </tbody>\n",
       "</table>\n",
       "</div>"
      ],
      "text/plain": [
       "              FIRST_ELEMENT            LAST_ELEMENT  TIME_IN_SEC\n",
       "577  [-8.610291, 41.140746]   [-8.60589, 41.145345]          375\n",
       "3    [-8.574678, 41.151951]  [-8.607996, 41.142915]          645\n",
       "0    [-8.618643, 41.141412]  [-8.630838, 41.154489]          345"
      ]
     },
     "execution_count": 73,
     "metadata": {},
     "output_type": "execute_result"
    }
   ],
   "source": [
    "\n",
    "\n",
    "\n",
    "new_df['POLYLINE'] = new_df['POLYLINE'].apply(lambda x: ast.literal_eval(x)) #tutaj zamieniam polyline ze stringa na tablice\n",
    "new_df['FIRST_ELEMENT'] = new_df['POLYLINE'].apply(lambda x: x[0] if len(x) > 0 else None) # wybieram pierwszy element\n",
    "new_df['LAST_ELEMENT'] = new_df['POLYLINE'].apply(lambda x: x[-1] if len(x) > 0 else None) # wybieram ostatni element\n",
    "new_df['TIME_IN_SEC'] = new_df['POLYLINE'].apply(lambda x: len(x)*15)\n",
    "new_df = new_df.drop('POLYLINE', axis=1)\n",
    "pd.set_option('display.max_colwidth', None)\n",
    "new_df.head(3)\n",
    "\n"
   ]
  },
  {
   "cell_type": "code",
   "execution_count": 74,
   "metadata": {},
   "outputs": [
    {
     "name": "stdout",
     "output_type": "stream",
     "text": [
      "371\n"
     ]
    }
   ],
   "source": [
    "puste_wiersze = new_df[new_df['FIRST_ELEMENT'].isnull() | new_df['LAST_ELEMENT'].isnull()]\n",
    "print(len(puste_wiersze))"
   ]
  },
  {
   "cell_type": "code",
   "execution_count": 75,
   "metadata": {},
   "outputs": [
    {
     "name": "stdout",
     "output_type": "stream",
     "text": [
      "Empty DataFrame\n",
      "Columns: [FIRST_ELEMENT, LAST_ELEMENT, TIME_IN_SEC]\n",
      "Index: []\n"
     ]
    }
   ],
   "source": [
    "new_df = new_df.dropna()\n",
    "puste_wiersze = new_df[new_df['FIRST_ELEMENT'].isnull() | new_df['LAST_ELEMENT'].isnull()]\n",
    "print(puste_wiersze)"
   ]
  },
  {
   "cell_type": "code",
   "execution_count": 76,
   "metadata": {},
   "outputs": [
    {
     "data": {
      "image/png": "[encoded data removed]",
      "text/plain": [
       "<Figure size 640x480 with 1 Axes>"
      ]
     },
     "metadata": {},
     "output_type": "display_data"
    }
   ],
   "source": [
    "x = new_df['FIRST_ELEMENT'].apply(lambda x: x[0])\n",
    "y = new_df['FIRST_ELEMENT'].apply(lambda x: x[1])\n",
    "\n",
    "x2 = new_df['LAST_ELEMENT'].apply(lambda x: x[0])\n",
    "y2 = new_df['LAST_ELEMENT'].apply(lambda x: x[1])\n",
    "\n",
    "# Tworzenie wykresu\n",
    "plt.scatter(x2, y2, c='blue',alpha=0.1, label='Drugi zbiór')\n",
    "plt.scatter(x, y, c='red',alpha=0.1, label='Pierwszy zbiór')\n",
    "\n",
    "plt.xlabel('Pierwsza wartość')\n",
    "plt.ylabel('Druga wartość')\n",
    "plt.title('Wykres dwóch zbiorów')\n",
    "plt.legend()\n",
    "plt.show()"
   ]
  },
  {
   "cell_type": "code",
   "execution_count": null,
   "metadata": {},
   "outputs": [],
   "source": [
    "##KNN"
   ]
  },
  {
   "cell_type": "code",
   "execution_count": 201,
   "metadata": {},
   "outputs": [],
   "source": [
    "from collections import Counter\n",
    "\n",
    "\n",
    "def euclidean_distance(x1, x2):\n",
    "    if (type(x1)==float):\n",
    "        return np.sqrt(np.sum((float(x1)- float(x2))**2))\n",
    "    else: \n",
    "        return 0\n",
    "class KNN:\n",
    "\n",
    "    def __init__(self, k=3):\n",
    "        self.k = k\n",
    "\n",
    "    def fit(self, X, y):\n",
    "        self.X_train = X\n",
    "        self.y_train = y\n",
    "\n",
    "    def predict(self, X):\n",
    "        y_pred = [self._predict(x) for x in X]\n",
    "        return np.array(y_pred)\n",
    "\n",
    "    def _predict(self, x):\n",
    "        distances = [euclidean_distance(x, x_train) for x_train in self.X_train]\n",
    "        k_indices = np.argsort(distances)[1:self.k]\n",
    "        k_nearest_labels = [self.y_train[i] for i in k_indices]\n",
    "        most_common = Counter(k_nearest_labels).most_common(1)\n",
    "        return most_common[0][0]"
   ]
  },
  {
   "cell_type": "code",
   "execution_count": 202,
   "metadata": {},
   "outputs": [],
   "source": [
    "class DataProcessing:\n",
    "    @staticmethod\n",
    "    def shuffle (x):\n",
    "        for i in range(len(x)-1, 0,-1):\n",
    "            j = rn.randint(0,i-1)\n",
    "            x.iloc[i],x.iloc[j]=x.iloc[j],x.iloc[i]\n",
    "    @staticmethod\n",
    "    def normalization (x):\n",
    "        values = x.select_dtypes(exclude=\"object\") #usunie string bo string to obiekty zawsze\n",
    "        columnNames=values.columns.tolist()\n",
    "        for column in columnNames:\n",
    "            data = x.loc[:,column] # wyciagamy cala kolumne wartosc\n",
    "            min1 = min(data)\n",
    "            max1 = max(data)\n",
    "            for row in range(len(x)):\n",
    "                xprim = (x.at[row,column]-min1)/(max1-min1)\n",
    "                x.at[row,column]=xprim\n",
    "    @staticmethod\n",
    "    def split (x, k): # k = 0.7, czyli 70% treningowe reszta sprawdzajace, i zwraca dwa zbiory, trenujacy i walidujacy\n",
    "        return x[: int(len(x)*k)], x[int(len(x)*k):]"
   ]
  },
  {
   "cell_type": "code",
   "execution_count": 203,
   "metadata": {},
   "outputs": [],
   "source": [
    "new_df['FIRST_ELEMENT'] = new_df['FIRST_ELEMENT'].apply(np.float64)\n",
    "new_df['LAST_ELEMENT'] = new_df['LAST_ELEMENT'].apply(np.float64)\n",
    "\n",
    "#X = new_df[['FIRST_ELEMENT', 'LAST_ELEMENT']]\n",
    "#y = new_df['TIME_IN_SEC']"
   ]
  },
  {
   "cell_type": "code",
   "execution_count": 205,
   "metadata": {},
   "outputs": [],
   "source": [
    "X_train, X_test = DataProcessing.split(new_df[['FIRST_ELEMENT', 'LAST_ELEMENT']], 0.7)\n",
    "y_train, y_test = DataProcessing.split(new_df['TIME_IN_SEC'], 0.7)\n",
    "\n"
   ]
  },
  {
   "cell_type": "code",
   "execution_count": 206,
   "metadata": {},
   "outputs": [
    {
     "name": "stdout",
     "output_type": "stream",
     "text": [
      "[285 285]\n"
     ]
    }
   ],
   "source": [
    "knn = KNN(k=3)\n",
    "knn.fit(X_train, y_train)\n",
    "\n",
    "# Przewidywanie etykiet dla zbioru testowego\n",
    "y_pred = knn.predict(X_test)\n",
    "print(y_pred)  # Wyświetlenie przewidywanych etykiet"
   ]
  },
  {
   "cell_type": "code",
   "execution_count": null,
   "metadata": {},
   "outputs": [],
   "source": []
  }
 ],
 "metadata": {
  "kernelspec": {
   "display_name": "Python 3",
   "language": "python",
   "name": "python3"
  },
  "language_info": {
   "codemirror_mode": {
    "name": "ipython",
    "version": 3
   },
   "file_extension": ".py",
   "mimetype": "text/x-python",
   "name": "python",
   "nbconvert_exporter": "python",
   "pygments_lexer": "ipython3",
   "version": "3.11.2"
  },
  "orig_nbformat": 4
 },
 "nbformat": 4,
 "nbformat_minor": 2
}
